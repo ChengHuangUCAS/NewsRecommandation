{
 "cells": [
  {
   "cell_type": "code",
   "execution_count": 2,
   "metadata": {},
   "outputs": [],
   "source": [
    "# coding: utf-8\n",
    "import json\n",
    "import codecs\n",
    "import numpy"
   ]
  },
  {
   "cell_type": "code",
   "execution_count": 56,
   "metadata": {},
   "outputs": [],
   "source": [
    "def time_back(t):\n",
    "    a = int(t-1393603200)\n",
    "    return int(a / 86400)"
   ]
  },
  {
   "cell_type": "code",
   "execution_count": 67,
   "metadata": {},
   "outputs": [],
   "source": [
    "def test(result_root):\n",
    "    f_user_data_validation = codecs.open('./data/_user_data_validation_clean.json', 'r', 'utf-8')\n",
    "    f_result = codecs.open(result_root, 'r', 'utf-8')\n",
    "    f_news_data = codecs.open('./data/_news_data.json', 'r', 'utf-8')\n",
    "    f_user_data_training = codecs.open('./data/_user_data_training_clean.json', 'r', 'utf-8')\n",
    "    training = json.load(f_user_data_training)\n",
    "    validation = json.load(f_user_data_validation)\n",
    "    result = json.load(f_result)\n",
    "    news_data = json.load(f_news_data)\n",
    "    \n",
    "    z=0\n",
    "    q=0\n",
    "    user_num = 0\n",
    "    precision = 0\n",
    "    recall = 0\n",
    "    for key in validation:\n",
    "        user_num += 1\n",
    "        if key in result:\n",
    "            rec_num = len(result[key])\n",
    "        else:\n",
    "            continue\n",
    "        act_num = len(validation[key])\n",
    "        TP = 0\n",
    "        for news_id in result[key]:\n",
    "            q+=1\n",
    "    #         print(news_data[news_id][0])\n",
    "            if news_id in validation[key]:\n",
    "                TP+=1\n",
    "\n",
    "#         print(key)\n",
    "#         for a in validation[key]:\n",
    "#             print(news_data[a][0])\n",
    "#         print(\"\\n\")\n",
    "#         for a in training[key]:\n",
    "#             print(news_data[a][0])\n",
    "#         print(\"\\n\")\n",
    "\n",
    "        for a in validation[key]:\n",
    "            if time_back(news_data[a][2]) < 10:\n",
    "                z+=1\n",
    "#         if TP==0:\n",
    "#             print(key)\n",
    "#             for a in result[key]:\n",
    "#                 print(news_data[a][0], time_back(news_data[a][2]))\n",
    "#             print(\"\\n\")\n",
    "#             for a in validation[key]:\n",
    "#                 print(news_data[a][0], time_back(news_data[a][2]),time_back(validation[key][a]))\n",
    "#             print(\"\\n\")\n",
    "#             for a in training[key]:\n",
    "#                 print(news_data[a][0], time_back(news_data[a][2]),time_back(training[key][a]))\n",
    "#             print(\"\\n\")\n",
    "    #     break\n",
    "    \n",
    "        #print(precision, recall)\n",
    "        precision += TP / rec_num\n",
    "        recall += TP / act_num\n",
    "    precision = 100 * precision / user_num \n",
    "    recall = 100 * recall / user_num\n",
    "    print(z,q)\n",
    "    f_user_data_validation.close()\n",
    "    f_result.close()\n",
    "    print(\"precision: \", precision )\n",
    "    print(\"recall: \", recall)"
   ]
  },
  {
   "cell_type": "code",
   "execution_count": null,
   "metadata": {},
   "outputs": [],
   "source": []
  },
  {
   "cell_type": "code",
   "execution_count": 68,
   "metadata": {},
   "outputs": [
    {
     "name": "stdout",
     "output_type": "stream",
     "text": [
      "1118 22821\n",
      "precision:  0.31532784839667216\n",
      "recall:  1.1163070420265575\n"
     ]
    }
   ],
   "source": [
    "test('./data/tfidf_result.json')"
   ]
  },
  {
   "cell_type": "code",
   "execution_count": null,
   "metadata": {},
   "outputs": [],
   "source": []
  }
 ],
 "metadata": {
  "kernelspec": {
   "display_name": "Python 3",
   "language": "python",
   "name": "python3"
  },
  "language_info": {
   "codemirror_mode": {
    "name": "ipython",
    "version": 3
   },
   "file_extension": ".py",
   "mimetype": "text/x-python",
   "name": "python",
   "nbconvert_exporter": "python",
   "pygments_lexer": "ipython3",
   "version": "3.7.0"
  }
 },
 "nbformat": 4,
 "nbformat_minor": 2
}
