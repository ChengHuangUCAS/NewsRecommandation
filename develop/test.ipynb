{
 "cells": [
  {
   "cell_type": "code",
   "execution_count": 2,
   "metadata": {},
   "outputs": [],
   "source": [
    "# coding: utf-8\n",
    "import json\n",
    "import codecs\n",
    "import numpy"
   ]
  },
  {
   "cell_type": "code",
   "execution_count": 16,
   "metadata": {},
   "outputs": [],
   "source": [
    "def test(result_root):\n",
    "    f_user_data_validation = codecs.open('./data/_user_data_validation.json', 'r', 'utf-8')\n",
    "    f_result = codecs.open(result_root, 'r', 'utf-8')\n",
    "    f_news_data = codecs.open('./data/_news_data.json', 'r', 'utf-8')\n",
    "    f_user_data_training = codecs.open('./data/_user_data_training.json', 'r', 'utf-8')\n",
    "    training = json.load(f_user_data_training)\n",
    "    validation = json.load(f_user_data_validation)\n",
    "    result = json.load(f_result)\n",
    "    news_data = json.load(f_news_data)\n",
    "    \n",
    "    \n",
    "    precision = 0\n",
    "    recall = 0\n",
    "    for key in validation:\n",
    "        if key in result:\n",
    "            rec_num = len(result[key])\n",
    "        else:\n",
    "            continue\n",
    "        act_num = len(validation[key])\n",
    "        TP = 0\n",
    "        for news_id in result[key]:\n",
    "    #         print(news_data[news_id][0])\n",
    "            if news_id in validation[key]:\n",
    "                TP+=1\n",
    "\n",
    "    #     print(key)\n",
    "    #     print(\"\\n\")\n",
    "    #     for a in validation[key]:\n",
    "    #         print(news_data[a][0])\n",
    "    #     print(\"\\n\")\n",
    "    #     for a in training[key]:\n",
    "    #         print(news_data[a][0])\n",
    "    #     print(\"\\n\")\n",
    "    #     if TP!=0:\n",
    "    #         print(key)\n",
    "    #         for a in result[key]:\n",
    "    #             print(news_data[a][0])\n",
    "    #         print(\"\\n\")\n",
    "    #         for a in validation[key]:\n",
    "    #             print(news_data[a][0])\n",
    "    #         print(\"\\n\")\n",
    "    #         for a in training[key]:\n",
    "    #             print(news_data[a][0])\n",
    "    #         print(\"\\n\")\n",
    "    #     break\n",
    "        precision += TP / rec_num\n",
    "        recall += TP / act_num\n",
    "\n",
    "    f_user_data_validation.close()\n",
    "    f_result.close()\n",
    "    print(\"precision: \", precision )\n",
    "    print(\"recall: \", recall)"
   ]
  },
  {
   "cell_type": "code",
   "execution_count": 17,
   "metadata": {},
   "outputs": [
    {
     "name": "stdout",
     "output_type": "stream",
     "text": [
      "3244\n",
      "9238\n"
     ]
    }
   ],
   "source": [
    "print(len(validation.keys()))\n",
    "print(len(training.keys()))"
   ]
  },
  {
   "cell_type": "code",
   "execution_count": 18,
   "metadata": {},
   "outputs": [
    {
     "name": "stdout",
     "output_type": "stream",
     "text": [
      "precision:  0.08333333333333333\n",
      "recall:  0.058823529411764705\n"
     ]
    }
   ],
   "source": [
    "test('./data/CF_NMF_recommend_matrix.json')"
   ]
  },
  {
   "cell_type": "code",
   "execution_count": null,
   "metadata": {},
   "outputs": [],
   "source": []
  }
 ],
 "metadata": {
  "kernelspec": {
   "display_name": "Python 3",
   "language": "python",
   "name": "python3"
  }
 },
 "nbformat": 4,
 "nbformat_minor": 2
}
